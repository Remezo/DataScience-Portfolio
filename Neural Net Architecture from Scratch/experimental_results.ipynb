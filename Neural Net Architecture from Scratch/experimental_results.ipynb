{
 "cells": [
  {
   "cell_type": "code",
   "execution_count": 9,
   "id": "2f402058-e04a-4057-982a-ba60006ddc98",
   "metadata": {},
   "outputs": [
    {
     "name": "stderr",
     "output_type": "stream",
     "text": [
      "\u001b[32m\u001b[1m  Activating\u001b[22m\u001b[39m project at `~/Workspace`\n"
     ]
    }
   ],
   "source": [
    "# You should only need to run this cell once when you (re)start the kernel. Thereafter, includet should import any changes.\n",
    "using Pkg\n",
    "Pkg.activate(\"../..\") # change this to your package-install location\n",
    "\n",
    "using BenchmarkTools\n",
    "using MLDatasets: MNIST\n",
    "using ImageCore\n",
    "using Flux: onehotbatch, onecold\n",
    "using Revise\n",
    "\n",
    "includet(\"activations_and_losses.jl\")\n",
    "includet(\"dense_network_model.jl\")\n",
    "includet(\"dense_network_training.jl\")"
   ]
  },
  {
   "cell_type": "code",
   "execution_count": null,
   "id": "ed5af98b-5ef8-4a50-ab3e-ae52e9bc02f6",
   "metadata": {},
   "outputs": [],
   "source": [
    "train_x, train_y = MNIST.traindata()\n",
    "test_x,  test_y  = MNIST.testdata()\n",
    "\n",
    "train_set_size = size(train_x)[end]\n",
    "test_set_size = size(test_x)[end]\n",
    "image_dimensions = size(train_x)[1:end-1]\n",
    "\n",
    "println(train_set_size, \" points in the training set\")\n",
    "println(test_set_size, \" points in the training set\")\n",
    "println(\"image inputs have dimension \", image_dimensions)"
   ]
  },
  {
   "cell_type": "code",
   "execution_count": null,
   "id": "e95ef169-26bb-4788-9fb8-86a8b594d681",
   "metadata": {},
   "outputs": [],
   "source": []
  },
  {
   "cell_type": "code",
   "execution_count": null,
   "id": "204aff0c-4fa6-4a2a-93d6-b32ed1a7f37a",
   "metadata": {},
   "outputs": [],
   "source": [
    "num_inputs = image_dimensions[1] * image_dimensions[2]\n",
    "num_labels = length(unique(train_y))\n",
    "hidden_sizes = [15]\n",
    "hidden_activations = [ReLU_activation]\n",
    "output_activation = softmax_activation\n",
    "nn1 = DenseNetworkCPU(num_inputs, num_labels, hidden_sizes; hidden_activations=hidden_activations, output_activation=output_activation);\n",
    "nn2 = DenseNetworkGPU(num_inputs, num_labels, hidden_sizes; hidden_activations=hidden_activations, output_activation=output_activation);"
   ]
  },
  {
   "cell_type": "code",
   "execution_count": null,
   "id": "f9535e8b-d77f-48fa-9300-b0750bcd5411",
   "metadata": {},
   "outputs": [],
   "source": [
    "#TODO: set up inputs & targets"
   ]
  },
  {
   "cell_type": "code",
   "execution_count": null,
   "id": "ee7144c7-a630-4c17-851e-3401c5c4b04d",
   "metadata": {},
   "outputs": [],
   "source": [
    "#TODO: benchmark training with BenchmarkTools"
   ]
  },
  {
   "cell_type": "code",
   "execution_count": 15,
   "id": "292406d7-e727-49ad-9d16-456d18cf43cf",
   "metadata": {},
   "outputs": [],
   "source": [
    "test = DenseNetworkCPU(2, 2, [2, 2]; hidden_activations=[ReLU_activation,ReLU_activation], output_activation=softmax_activation);"
   ]
  },
  {
   "cell_type": "code",
   "execution_count": 16,
   "id": "95f3b6fc-0107-47f9-a2fa-8f5173fa2ad7",
   "metadata": {},
   "outputs": [
    {
     "data": {
      "text/plain": [
       "2-element Vector{Int64}:\n",
       " 2\n",
       " 0"
      ]
     },
     "execution_count": 16,
     "metadata": {},
     "output_type": "execute_result"
    }
   ],
   "source": [
    "m=rand(2,2)\n",
    "m[1,:]=[1,2]\n",
    "m[2,:]=[3,4]\n",
    "test.hidden_layers[1].W=m\n",
    "a=rand(2,2)\n",
    "a[1,:]=[5,6]\n",
    "a[2,:]=[7,8]\n",
    "test.hidden_layers[2].W=a\n",
    "input_batch=rand(2,2)\n",
    "input_batch[1,:]=[-1,0]\n",
    "input_batch[2,:]=[2,0]"
   ]
  },
  {
   "cell_type": "code",
   "execution_count": 17,
   "id": "aaa73a2b-b4a3-407b-875a-0c31636c44c0",
   "metadata": {},
   "outputs": [
    {
     "data": {
      "text/plain": [
       "2×2 Matrix{Float32}:\n",
       " 0.5  0.000198203\n",
       " 0.5  0.999802"
      ]
     },
     "execution_count": 17,
     "metadata": {},
     "output_type": "execute_result"
    }
   ],
   "source": [
    "\n",
    "predict!(test,input_batch)"
   ]
  },
  {
   "cell_type": "code",
   "execution_count": null,
   "id": "52eea665-1500-4094-a362-24209bad2f53",
   "metadata": {},
   "outputs": [],
   "source": [
    "id=findmax([1,2,4,3])[2]\n",
    "println(test.hidden_layers[1].A)"
   ]
  },
  {
   "cell_type": "code",
   "execution_count": null,
   "id": "34326fdd-dc92-4b59-a1a6-3bd799c9b171",
   "metadata": {},
   "outputs": [],
   "source": [
    "# test.hidden_layers[1].A.+ test.hidden_layers[1].B\n",
    "# test.hidden_layers[1].activation(test.hidden_layers[1].A)\n",
    "test.hidden_layers[1].activation([5,6])"
   ]
  },
  {
   "cell_type": "code",
   "execution_count": null,
   "id": "eaca5d4d-d1b7-493e-828a-b5def14cdd2d",
   "metadata": {},
   "outputs": [],
   "source": [
    "test"
   ]
  },
  {
   "cell_type": "code",
   "execution_count": null,
   "id": "d426a978-a1db-4c8f-a8d4-71c8fecbfcb7",
   "metadata": {},
   "outputs": [],
   "source": [
    "test.hidden_layers\n",
    "\n",
    "for i in test.hidden_layers\n",
    "    println(i.W)\n",
    "end"
   ]
  },
  {
   "cell_type": "code",
   "execution_count": null,
   "id": "fef31e6f-d9e4-4ddd-a3e5-ce3f6c9cfa75",
   "metadata": {},
   "outputs": [],
   "source": [
    "new = DenseNetworkCPU(2, 2, [2, 2]; hidden_activations=[ReLU_activation,ReLU_activation], output_activation=softmax_activation);"
   ]
  },
  {
   "cell_type": "code",
   "execution_count": null,
   "id": "66183406-eb41-4579-af60-873d541c14c2",
   "metadata": {},
   "outputs": [],
   "source": [
    "predict!(new;input_batch)"
   ]
  },
  {
   "cell_type": "code",
   "execution_count": null,
   "id": "ebfe7feb-7964-49aa-86ee-86afc3aa787b",
   "metadata": {},
   "outputs": [],
   "source": [
    "s=rand(2,2)\n",
    "b=predict(new,s;batch_size=0)"
   ]
  },
  {
   "cell_type": "code",
   "execution_count": null,
   "id": "0eecd59d-8e80-4ffb-8b93-747748447042",
   "metadata": {},
   "outputs": [],
   "source": [
    "length(test.output_layer)"
   ]
  },
  {
   "cell_type": "code",
   "execution_count": null,
   "id": "f4c7a9d2-3908-422a-a012-b0f63bd3f452",
   "metadata": {},
   "outputs": [],
   "source": [
    "test.output_layer.A"
   ]
  },
  {
   "cell_type": "code",
   "execution_count": 18,
   "id": "34939838-0937-4b0e-8734-d9405de3067d",
   "metadata": {},
   "outputs": [
    {
     "data": {
      "text/plain": [
       "4×4 Matrix{Float64}:\n",
       " 0.813664   0.499797  0.471544  0.447379\n",
       " 0.875962   0.71633   0.100668  0.527242\n",
       " 0.734534   0.62381   0.671607  0.763563\n",
       " 0.0453644  0.613714  0.102608  0.535487"
      ]
     },
     "execution_count": 18,
     "metadata": {},
     "output_type": "execute_result"
    }
   ],
   "source": [
    "m=rand(4,4)"
   ]
  },
  {
   "cell_type": "code",
   "execution_count": 21,
   "id": "5a9dd31c-f2aa-4755-bebb-0da632aa47c8",
   "metadata": {},
   "outputs": [
    {
     "data": {
      "text/plain": [
       "2×4 Matrix{Float64}:\n",
       " 0.813664  0.499797  0.471544  0.447379\n",
       " 0.875962  0.71633   0.100668  0.527242"
      ]
     },
     "execution_count": 21,
     "metadata": {},
     "output_type": "execute_result"
    }
   ],
   "source": [
    "m[1:2,:]"
   ]
  },
  {
   "cell_type": "code",
   "execution_count": 47,
   "id": "22b45867-9b79-4707-bd64-2409919167bb",
   "metadata": {},
   "outputs": [
    {
     "name": "stdout",
     "output_type": "stream",
     "text": [
      "start: 0\n",
      "finish: 3\n",
      "start: 3\n",
      "finish: 6\n",
      "start: 6\n",
      "finish: 9\n",
      "start: 9\n",
      "finish: 10\n"
     ]
    }
   ],
   "source": [
    "    \n",
    "for i in (0:3:10)\n",
    "    println(\"start: \",i)\n",
    "    if i+3>=10\n",
    "        println(\"finish: \", 10)\n",
    "    else   \n",
    "        println(\"finish: \", i+3)\n",
    "    end\n",
    "    \n",
    "end"
   ]
  },
  {
   "cell_type": "code",
   "execution_count": null,
   "id": "2661934f-10b6-4788-9e54-2ae06ad6f773",
   "metadata": {},
   "outputs": [],
   "source": []
  }
 ],
 "metadata": {
  "kernelspec": {
   "display_name": "Julia 1.7.0",
   "language": "julia",
   "name": "julia-1.7"
  },
  "language_info": {
   "file_extension": ".jl",
   "mimetype": "application/julia",
   "name": "julia",
   "version": "1.7.0"
  }
 },
 "nbformat": 4,
 "nbformat_minor": 5
}
