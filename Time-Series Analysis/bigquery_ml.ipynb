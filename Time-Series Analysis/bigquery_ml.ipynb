{
 "cells": [
  {
   "cell_type": "code",
   "execution_count": 20,
   "id": "137fcc80",
   "metadata": {},
   "outputs": [],
   "source": [
    "import pandas as pd"
   ]
  },
  {
   "cell_type": "code",
   "execution_count": 21,
   "id": "4e80414d",
   "metadata": {},
   "outputs": [
    {
     "data": {
      "text/plain": [
       "\"\\nCREATE OR REPLACE MODEL\\n  `scrap_tire_dataset.dc_stc_arima_02` \\n  OPTIONS(MODEL_TYPE='ARIMA_PLUS',\\n    TIME_SERIES_TIMESTAMP_COL='date',\\n    TIME_SERIES_DATA_COL='total_tires',\\n    DATA_FREQUENCY = 'DAILY',\\n    HORIZON = 7,\\n    CLEAN_SPIKES_AND_DIPS = TRUE,\\n    ADJUST_STEP_CHANGES = TRUE,\\n    TREND_SMOOTHING_WINDOW_SIZE = 30,\\n    TIME_SERIES_ID_COL = ['dc_name', 'size_code'],\\n    TIME_SERIES_LENGTH_FRACTION =0.5,\\n    min_time_series_length=30,\\n    HOLIDAY_REGION='US') AS\\nSELECT\\n  date, total_tires, dc_name, size_code\\nFROM \\n  `dulcet-genius-368403.scrap_tire_dataset.dc_tire_collection` ;\\n\\n\\n\""
      ]
     },
     "execution_count": 21,
     "metadata": {},
     "output_type": "execute_result"
    }
   ],
   "source": [
    "# Query used:\n",
    "\"\"\"\n",
    "CREATE OR REPLACE MODEL\n",
    "  `scrap_tire_dataset.dc_stc_arima_02` \n",
    "  OPTIONS(MODEL_TYPE='ARIMA_PLUS',\n",
    "    TIME_SERIES_TIMESTAMP_COL='date',\n",
    "    TIME_SERIES_DATA_COL='total_tires',\n",
    "    DATA_FREQUENCY = 'DAILY',\n",
    "    HORIZON = 7,\n",
    "    CLEAN_SPIKES_AND_DIPS = TRUE,\n",
    "    ADJUST_STEP_CHANGES = TRUE,\n",
    "    TREND_SMOOTHING_WINDOW_SIZE = 30,\n",
    "    TIME_SERIES_ID_COL = ['dc_name', 'size_code'],\n",
    "    TIME_SERIES_LENGTH_FRACTION =0.5,\n",
    "    min_time_series_length=30,\n",
    "    HOLIDAY_REGION='US') AS\n",
    "SELECT\n",
    "  date, total_tires, dc_name, size_code\n",
    "FROM \n",
    "  `dulcet-genius-368403.scrap_tire_dataset.dc_tire_collection` ;\n",
    "\n",
    "\n",
    "\"\"\""
   ]
  },
  {
   "cell_type": "code",
   "execution_count": 27,
   "id": "e3e0a7d9",
   "metadata": {},
   "outputs": [],
   "source": [
    "csv_path = '../../data/public/preds/bqml_arima_plus_03'\n",
    "df_data = pd.read_csv(f\"{csv_path}.csv\")"
   ]
  },
  {
   "cell_type": "code",
   "execution_count": 28,
   "id": "442f266d",
   "metadata": {},
   "outputs": [],
   "source": [
    "df_data['forecast_timestamp'] = pd.to_datetime(df_data['forecast_timestamp'], infer_datetime_format=True)\n"
   ]
  },
  {
   "cell_type": "code",
   "execution_count": 29,
   "id": "057f759e",
   "metadata": {},
   "outputs": [
    {
     "data": {
      "text/plain": [
       "dc_name                                         object\n",
       "size_code                                        int64\n",
       "forecast_timestamp                 datetime64[ns, UTC]\n",
       "forecast_value                                 float64\n",
       "standard_error                                 float64\n",
       "confidence_level                               float64\n",
       "prediction_interval_lower_bound                float64\n",
       "prediction_interval_upper_bound                float64\n",
       "confidence_interval_lower_bound                float64\n",
       "confidence_interval_upper_bound                float64\n",
       "dtype: object"
      ]
     },
     "execution_count": 29,
     "metadata": {},
     "output_type": "execute_result"
    }
   ],
   "source": [
    "df_data.dtypes"
   ]
  },
  {
   "cell_type": "code",
   "execution_count": 30,
   "id": "e821d706",
   "metadata": {},
   "outputs": [],
   "source": [
    "def gen_formatted_preds(df_x):\n",
    "    list_records = []\n",
    "    for r_index, row in df_x.iterrows():\n",
    "        dict_record = {\n",
    "            'date': row['forecast_timestamp'].date(),\n",
    "            'dc_name': row['dc_name'],\n",
    "            'size_code': row['size_code'],\n",
    "            'total_tires': int(max(row['forecast_value'], 0))\n",
    "        }\n",
    "        list_records.append(dict_record)\n",
    "    df_y = pd.DataFrame(list_records)\n",
    "    display(df_y.head())\n",
    "    df_y.to_csv(f\"{csv_path}_fmt.csv\", index=False)"
   ]
  },
  {
   "cell_type": "code",
   "execution_count": 31,
   "id": "4db9b5e7",
   "metadata": {},
   "outputs": [
    {
     "data": {
      "text/html": [
       "<div>\n",
       "<style scoped>\n",
       "    .dataframe tbody tr th:only-of-type {\n",
       "        vertical-align: middle;\n",
       "    }\n",
       "\n",
       "    .dataframe tbody tr th {\n",
       "        vertical-align: top;\n",
       "    }\n",
       "\n",
       "    .dataframe thead th {\n",
       "        text-align: right;\n",
       "    }\n",
       "</style>\n",
       "<table border=\"1\" class=\"dataframe\">\n",
       "  <thead>\n",
       "    <tr style=\"text-align: right;\">\n",
       "      <th></th>\n",
       "      <th>date</th>\n",
       "      <th>dc_name</th>\n",
       "      <th>size_code</th>\n",
       "      <th>total_tires</th>\n",
       "    </tr>\n",
       "  </thead>\n",
       "  <tbody>\n",
       "    <tr>\n",
       "      <th>0</th>\n",
       "      <td>2022-09-20</td>\n",
       "      <td>BAKERSFIELD</td>\n",
       "      <td>1856015</td>\n",
       "      <td>6</td>\n",
       "    </tr>\n",
       "    <tr>\n",
       "      <th>1</th>\n",
       "      <td>2022-09-21</td>\n",
       "      <td>BAKERSFIELD</td>\n",
       "      <td>1856015</td>\n",
       "      <td>12</td>\n",
       "    </tr>\n",
       "    <tr>\n",
       "      <th>2</th>\n",
       "      <td>2022-09-22</td>\n",
       "      <td>BAKERSFIELD</td>\n",
       "      <td>1856015</td>\n",
       "      <td>7</td>\n",
       "    </tr>\n",
       "    <tr>\n",
       "      <th>3</th>\n",
       "      <td>2022-09-23</td>\n",
       "      <td>BAKERSFIELD</td>\n",
       "      <td>1856015</td>\n",
       "      <td>14</td>\n",
       "    </tr>\n",
       "    <tr>\n",
       "      <th>4</th>\n",
       "      <td>2022-09-24</td>\n",
       "      <td>BAKERSFIELD</td>\n",
       "      <td>1856015</td>\n",
       "      <td>17</td>\n",
       "    </tr>\n",
       "  </tbody>\n",
       "</table>\n",
       "</div>"
      ],
      "text/plain": [
       "         date      dc_name  size_code  total_tires\n",
       "0  2022-09-20  BAKERSFIELD    1856015            6\n",
       "1  2022-09-21  BAKERSFIELD    1856015           12\n",
       "2  2022-09-22  BAKERSFIELD    1856015            7\n",
       "3  2022-09-23  BAKERSFIELD    1856015           14\n",
       "4  2022-09-24  BAKERSFIELD    1856015           17"
      ]
     },
     "metadata": {},
     "output_type": "display_data"
    }
   ],
   "source": [
    "gen_formatted_preds(df_data)"
   ]
  },
  {
   "cell_type": "code",
   "execution_count": null,
   "id": "c16249f2",
   "metadata": {},
   "outputs": [],
   "source": []
  }
 ],
 "metadata": {
  "kernelspec": {
   "display_name": "Python 3 (ipykernel)",
   "language": "python",
   "name": "python3"
  },
  "language_info": {
   "codemirror_mode": {
    "name": "ipython",
    "version": 3
   },
   "file_extension": ".py",
   "mimetype": "text/x-python",
   "name": "python",
   "nbconvert_exporter": "python",
   "pygments_lexer": "ipython3",
   "version": "3.8.9"
  }
 },
 "nbformat": 4,
 "nbformat_minor": 5
}
